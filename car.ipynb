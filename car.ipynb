{
 "cells": [
  {
   "cell_type": "markdown",
   "id": "d787d955-f59d-4031-9cf3-875cac9ce2de",
   "metadata": {},
   "source": [
    "## 1. Loading and Preprocessing"
   ]
  },
  {
   "cell_type": "code",
   "execution_count": 1,
   "id": "faeed4d3-8015-4007-a1a3-11f8052cf430",
   "metadata": {},
   "outputs": [
    {
     "name": "stdout",
     "output_type": "stream",
     "text": [
      "   car_ID  symboling                   CarName fueltype aspiration doornumber  \\\n",
      "0       1          3        alfa-romero giulia      gas        std        two   \n",
      "1       2          3       alfa-romero stelvio      gas        std        two   \n",
      "2       3          1  alfa-romero Quadrifoglio      gas        std        two   \n",
      "3       4          2               audi 100 ls      gas        std       four   \n",
      "4       5          2                audi 100ls      gas        std       four   \n",
      "\n",
      "       carbody drivewheel enginelocation  wheelbase  ...  enginesize  \\\n",
      "0  convertible        rwd          front       88.6  ...         130   \n",
      "1  convertible        rwd          front       88.6  ...         130   \n",
      "2    hatchback        rwd          front       94.5  ...         152   \n",
      "3        sedan        fwd          front       99.8  ...         109   \n",
      "4        sedan        4wd          front       99.4  ...         136   \n",
      "\n",
      "   fuelsystem  boreratio  stroke compressionratio horsepower  peakrpm citympg  \\\n",
      "0        mpfi       3.47    2.68              9.0        111     5000      21   \n",
      "1        mpfi       3.47    2.68              9.0        111     5000      21   \n",
      "2        mpfi       2.68    3.47              9.0        154     5000      19   \n",
      "3        mpfi       3.19    3.40             10.0        102     5500      24   \n",
      "4        mpfi       3.19    3.40              8.0        115     5500      18   \n",
      "\n",
      "   highwaympg    price  \n",
      "0          27  13495.0  \n",
      "1          27  16500.0  \n",
      "2          26  16500.0  \n",
      "3          30  13950.0  \n",
      "4          22  17450.0  \n",
      "\n",
      "[5 rows x 26 columns]\n"
     ]
    }
   ],
   "source": [
    "import pandas as pd\n",
    "import matplotlib.pyplot as plt\n",
    "import seaborn as sns\n",
    "\n",
    "# Load the dataset\n",
    "data = pd.read_csv(r'C:\\Users\\binoy\\OneDrive\\Desktop\\entri calss\\file/CarPrice_Assignment.csv')\n",
    "print(data.head())"
   ]
  },
  {
   "cell_type": "code",
   "execution_count": 4,
   "id": "533f4fba-bd50-4365-ae60-a4a0c53ace62",
   "metadata": {},
   "outputs": [
    {
     "name": "stdout",
     "output_type": "stream",
     "text": [
      "   car_ID  symboling                   CarName fueltype aspiration doornumber  \\\n",
      "0       1          3        alfa-romero giulia      gas        std        two   \n",
      "1       2          3       alfa-romero stelvio      gas        std        two   \n",
      "2       3          1  alfa-romero Quadrifoglio      gas        std        two   \n",
      "3       4          2               audi 100 ls      gas        std       four   \n",
      "4       5          2                audi 100ls      gas        std       four   \n",
      "\n",
      "       carbody drivewheel enginelocation  wheelbase  ...  enginesize  \\\n",
      "0  convertible        rwd          front       88.6  ...         130   \n",
      "1  convertible        rwd          front       88.6  ...         130   \n",
      "2    hatchback        rwd          front       94.5  ...         152   \n",
      "3        sedan        fwd          front       99.8  ...         109   \n",
      "4        sedan        4wd          front       99.4  ...         136   \n",
      "\n",
      "   fuelsystem  boreratio  stroke compressionratio horsepower  peakrpm citympg  \\\n",
      "0        mpfi       3.47    2.68              9.0        111     5000      21   \n",
      "1        mpfi       3.47    2.68              9.0        111     5000      21   \n",
      "2        mpfi       2.68    3.47              9.0        154     5000      19   \n",
      "3        mpfi       3.19    3.40             10.0        102     5500      24   \n",
      "4        mpfi       3.19    3.40              8.0        115     5500      18   \n",
      "\n",
      "   highwaympg    price  \n",
      "0          27  13495.0  \n",
      "1          27  16500.0  \n",
      "2          26  16500.0  \n",
      "3          30  13950.0  \n",
      "4          22  17450.0  \n",
      "\n",
      "[5 rows x 26 columns]\n",
      "car_ID              0\n",
      "symboling           0\n",
      "CarName             0\n",
      "fueltype            0\n",
      "aspiration          0\n",
      "doornumber          0\n",
      "carbody             0\n",
      "drivewheel          0\n",
      "enginelocation      0\n",
      "wheelbase           0\n",
      "carlength           0\n",
      "carwidth            0\n",
      "carheight           0\n",
      "curbweight          0\n",
      "enginetype          0\n",
      "cylindernumber      0\n",
      "enginesize          0\n",
      "fuelsystem          0\n",
      "boreratio           0\n",
      "stroke              0\n",
      "compressionratio    0\n",
      "horsepower          0\n",
      "peakrpm             0\n",
      "citympg             0\n",
      "highwaympg          0\n",
      "price               0\n",
      "dtype: int64\n"
     ]
    }
   ],
   "source": [
    "# Display the first few rows of the preprocessed dataset\n",
    "print(data.head())\n",
    "\n",
    "# Check for any remaining missing values\n",
    "print(data.isnull().sum())"
   ]
  },
  {
   "cell_type": "code",
   "execution_count": 5,
   "id": "1d150f6f-2f7a-4dd2-b544-edb308696267",
   "metadata": {},
   "outputs": [
    {
     "name": "stdout",
     "output_type": "stream",
     "text": [
      "car_ID                int64\n",
      "symboling             int64\n",
      "CarName              object\n",
      "fueltype             object\n",
      "aspiration           object\n",
      "doornumber           object\n",
      "carbody              object\n",
      "drivewheel           object\n",
      "enginelocation       object\n",
      "wheelbase           float64\n",
      "carlength           float64\n",
      "carwidth            float64\n",
      "carheight           float64\n",
      "curbweight            int64\n",
      "enginetype           object\n",
      "cylindernumber       object\n",
      "enginesize            int64\n",
      "fuelsystem           object\n",
      "boreratio           float64\n",
      "stroke              float64\n",
      "compressionratio    float64\n",
      "horsepower            int64\n",
      "peakrpm               int64\n",
      "citympg               int64\n",
      "highwaympg            int64\n",
      "price               float64\n",
      "dtype: object\n"
     ]
    }
   ],
   "source": [
    "# Check the data types of each column\n",
    "print(data.dtypes)"
   ]
  },
  {
   "cell_type": "code",
   "execution_count": 81,
   "id": "34113432-b04d-4f74-ad44-501cf27017fa",
   "metadata": {},
   "outputs": [
    {
     "name": "stdout",
     "output_type": "stream",
     "text": [
      "     car_ID  symboling  wheelbase  carlength  carwidth  carheight  curbweight  \\\n",
      "0 -1.616376   1.741971  -2.090609  -0.242634 -0.758468  -2.005499    0.359188   \n",
      "1 -1.600130   1.741971  -2.090609  -0.242634 -0.758468  -2.005499    0.359188   \n",
      "2 -1.583884   0.054015  -0.668611  -0.015873  0.170393  -0.514052    1.033194   \n",
      "3 -1.567639   0.897993   0.535780   0.494338  0.627516   0.273100   -0.157957   \n",
      "4 -1.551393   0.897993   0.447118   0.494338  0.757248   0.273100    1.035645   \n",
      "\n",
      "   enginesize  boreratio    stroke  ...  enginetype_ohc  enginetype_ohcv  \\\n",
      "0    0.640855   0.802420 -3.111667  ...       -2.163751        -0.243561   \n",
      "1    0.640855   0.802420 -3.111667  ...       -2.163751        -0.243561   \n",
      "2    1.342390  -2.348234  1.191331  ...       -2.163751         4.105745   \n",
      "3   -0.148694  -0.314268  0.810053  ...        0.462160        -0.243561   \n",
      "4    0.843233  -0.314268  0.810053  ...        0.462160        -0.243561   \n",
      "\n",
      "   enginetype_rotor  cylindernumber_four  cylindernumber_six  \\\n",
      "0         -0.181818             0.436436           -0.340693   \n",
      "1         -0.181818             0.436436           -0.340693   \n",
      "2         -0.181818            -2.291288            2.935198   \n",
      "3         -0.181818             0.436436           -0.340693   \n",
      "4         -0.181818            -2.291288           -0.340693   \n",
      "\n",
      "   cylindernumber_two  fuelsystem_2bbl  fuelsystem_4bbl  fuelsystem_mpfi  \\\n",
      "0           -0.181818        -0.915552        -0.156813         1.146654   \n",
      "1           -0.181818        -0.915552        -0.156813         1.146654   \n",
      "2           -0.181818        -0.915552        -0.156813         1.146654   \n",
      "3           -0.181818        -0.915552        -0.156813         1.146654   \n",
      "4           -0.181818        -0.915552        -0.156813         1.146654   \n",
      "\n",
      "   fuelsystem_spfi  \n",
      "0        -0.089803  \n",
      "1        -0.089803  \n",
      "2        -0.089803  \n",
      "3        -0.089803  \n",
      "4        -0.089803  \n",
      "\n",
      "[5 rows x 129 columns]\n"
     ]
    }
   ],
   "source": [
    "from sklearn.preprocessing import StandardScaler\n",
    "\n",
    "# Separate features and target variable\n",
    "X = data_encoded.drop(columns=['price'])\n",
    "y = data_encoded['price']\n",
    "\n",
    "# Scale numerical features\n",
    "scaler = StandardScaler()\n",
    "X_scaled = scaler.fit_transform(X)\n",
    "\n",
    "# Convert scaled features back to DataFrame for easier handling later on\n",
    "X_scaled_df = pd.DataFrame(X_scaled, columns=X.columns)\n",
    "\n",
    "# Display the first few rows of scaled features\n",
    "print(X_scaled_df.head())"
   ]
  },
  {
   "cell_type": "code",
   "execution_count": 6,
   "id": "1441f3e1-55be-41b6-8bc3-fa3e174aff47",
   "metadata": {},
   "outputs": [
    {
     "name": "stdout",
     "output_type": "stream",
     "text": [
      "           car_ID   symboling   wheelbase   carlength    carwidth   carheight  \\\n",
      "count  205.000000  205.000000  205.000000  205.000000  205.000000  205.000000   \n",
      "mean   103.000000    0.834146   98.756585  174.049268   65.907805   53.724878   \n",
      "std     59.322565    1.245307    6.021776   12.337289    2.145204    2.443522   \n",
      "min      1.000000   -2.000000   86.600000  141.100000   60.300000   47.800000   \n",
      "25%     52.000000    0.000000   94.500000  166.300000   64.100000   52.000000   \n",
      "50%    103.000000    1.000000   97.000000  173.200000   65.500000   54.100000   \n",
      "75%    154.000000    2.000000  102.400000  183.100000   66.900000   55.500000   \n",
      "max    205.000000    3.000000  120.900000  208.100000   72.300000   59.800000   \n",
      "\n",
      "        curbweight  enginesize   boreratio      stroke  compressionratio  \\\n",
      "count   205.000000  205.000000  205.000000  205.000000        205.000000   \n",
      "mean   2555.565854  126.907317    3.329756    3.255415         10.142537   \n",
      "std     520.680204   41.642693    0.270844    0.313597          3.972040   \n",
      "min    1488.000000   61.000000    2.540000    2.070000          7.000000   \n",
      "25%    2145.000000   97.000000    3.150000    3.110000          8.600000   \n",
      "50%    2414.000000  120.000000    3.310000    3.290000          9.000000   \n",
      "75%    2935.000000  141.000000    3.580000    3.410000          9.400000   \n",
      "max    4066.000000  326.000000    3.940000    4.170000         23.000000   \n",
      "\n",
      "       horsepower      peakrpm     citympg  highwaympg         price  \n",
      "count  205.000000   205.000000  205.000000  205.000000    205.000000  \n",
      "mean   104.117073  5125.121951   25.219512   30.751220  13276.710571  \n",
      "std     39.544167   476.985643    6.542142    6.886443   7988.852332  \n",
      "min     48.000000  4150.000000   13.000000   16.000000   5118.000000  \n",
      "25%     70.000000  4800.000000   19.000000   25.000000   7788.000000  \n",
      "50%     95.000000  5200.000000   24.000000   30.000000  10295.000000  \n",
      "75%    116.000000  5500.000000   30.000000   34.000000  16503.000000  \n",
      "max    288.000000  6600.000000   49.000000   54.000000  45400.000000  \n"
     ]
    }
   ],
   "source": [
    "# Summary statistics\n",
    "print(data.describe())"
   ]
  },
  {
   "cell_type": "code",
   "execution_count": 94,
   "id": "d0a60187-3652-491a-af28-4debafdab2c1",
   "metadata": {},
   "outputs": [
    {
     "name": "stdout",
     "output_type": "stream",
     "text": [
      "Training set shape: (100, 129), Test set shape: (25, 129)\n"
     ]
    }
   ],
   "source": [
    "from sklearn.model_selection import train_test_split\n",
    "\n",
    "# Split the data into training and test sets\n",
    "X_train, X_test, y_train, y_test = train_test_split(X_scaled_df, y, test_size=0.2, random_state=42)\n",
    "\n",
    "print(f\"Training set shape: {X_train.shape}, Test set shape: {X_test.shape}\")"
   ]
  },
  {
   "cell_type": "markdown",
   "id": "1ca1b1df-06a1-4c5e-a8f0-44ffecdda224",
   "metadata": {},
   "source": [
    "## Model Implemenation "
   ]
  },
  {
   "cell_type": "code",
   "execution_count": 95,
   "id": "277b37c0-46b2-4e88-a3c8-629126721775",
   "metadata": {},
   "outputs": [],
   "source": [
    "from sklearn.preprocessing import StandardScaler\n",
    "from sklearn.linear_model import LinearRegression\n",
    "from sklearn.tree import DecisionTreeRegressor\n",
    "from sklearn.ensemble import RandomForestRegressor, GradientBoostingRegressor\n",
    "from sklearn.svm import SVR\n",
    "\n",
    "# Initialize models\n",
    "models = {\n",
    "    'Linear Regression': LinearRegression(),\n",
    "    'Decision Tree': DecisionTreeRegressor(),\n",
    "    'Random Forest': RandomForestRegressor(),\n",
    "    'Gradient Boosting': GradientBoostingRegressor(),\n",
    "    'Support Vector': SVR()\n",
    "}\n",
    "\n",
    "# Fit models and store results\n",
    "model_results = {}\n",
    "for model_name, model in models.items():\n",
    "    model.fit(X_train, y_train)\n",
    "    predictions = model.predict(X_test)\n",
    "    model_results[model_name] = predictions"
   ]
  },
  {
   "cell_type": "markdown",
   "id": "bed52cd6-5713-4c58-a08e-11ff542fa639",
   "metadata": {},
   "source": [
    "## Model evaluation"
   ]
  },
  {
   "cell_type": "code",
   "execution_count": 96,
   "id": "d4a9febd-8cb7-456f-a8c6-4171c2ee34a2",
   "metadata": {},
   "outputs": [
    {
     "name": "stdout",
     "output_type": "stream",
     "text": [
      "                    R-squared        MSE       MAE\n",
      "Linear Regression -423.321935  51.664566  5.286854\n",
      "Decision Tree        0.810037   0.023129  0.126200\n",
      "Random Forest        0.861474   0.016867  0.115894\n",
      "Gradient Boosting    0.845851   0.018769  0.116839\n",
      "Support Vector       0.673314   0.039777  0.176274\n",
      "The best performing model is: Random Forest with metrics:\n",
      "R-squared    0.861474\n",
      "MSE          0.016867\n",
      "MAE          0.115894\n",
      "Name: Random Forest, dtype: float64\n"
     ]
    }
   ],
   "source": [
    "from sklearn.metrics import r2_score, mean_squared_error, mean_absolute_error\n",
    "\n",
    "evaluation_results = {}\n",
    "for model_name, predictions in model_results.items():\n",
    "    r2 = r2_score(y_test, predictions)\n",
    "    mse = mean_squared_error(y_test, predictions)\n",
    "    mae = mean_absolute_error(y_test, predictions)\n",
    "    \n",
    "    evaluation_results[model_name] = {\n",
    "        'R-squared': r2,\n",
    "        'MSE': mse,\n",
    "        'MAE': mae\n",
    "    }\n",
    "\n",
    "# Display evaluation results\n",
    "evaluation_df = pd.DataFrame(evaluation_results).T\n",
    "print(evaluation_df)\n",
    "\n",
    "# Identify the best performing model based on R-squared or lowest MSE/MAE.\n",
    "best_model_name = evaluation_df['R-squared'].idxmax()\n",
    "best_model_metrics = evaluation_df.loc[best_model_name]\n",
    "print(f\"The best performing model is: {best_model_name} with metrics:\\n{best_model_metrics}\")"
   ]
  },
  {
   "cell_type": "markdown",
   "id": "661265ce-b222-435c-a4eb-97224088a2f3",
   "metadata": {},
   "source": [
    "### Model Evaluation Results\n",
    "\n",
    "| Model                | R-squared       | Mean Squared Error (MSE) | Mean Absolute Error (MAE) |\n",
    "|----------------------|------------------|---------------------------|----------------------------|\n",
    "| Linear Regression     | -423.32          | 51.66                     | 5.29                       |\n",
    "| Decision Tree         | 0.81             | 0.02                      | 0.13                       |\n",
    "| Random Forest         | **0.86**         | **0.02**                  | **0.12**                   |\n",
    "| Gradient Boosting     | 0.85             | 0.02                      | 0.12                       |\n",
    "| Support Vector        | 0.67             | 0.04                      | 0.18                       |\n",
    "\n",
    "### Analysis of Results\n",
    "\n",
    "1. **Linear Regression**: \n",
    "   - The R-squared value is extremely low (-423.32), indicating that the model explains virtually none of the variance in car prices and is likely overfitting or poorly specified.\n",
    "   - The MSE (51.66) and MAE (5.29) values are also high, suggesting that predictions are far from actual values.\n",
    "\n",
    "2. **Decision Tree Regressor**:\n",
    "   - The R-squared value (0.81) indicates a good fit, explaining about 81% of the variance in car prices.\n",
    "   - With an MSE of 0.02 and MAE of 0.13, this model performs reasonably well, but it is outperformed by more complex models.\n",
    "\n",
    "3. **Random Forest Regressor**:\n",
    "   - This model has the highest R-squared value (0.86), indicating it explains approximately 86% of the variance in car prices.\n",
    "   - It also has the lowest MSE (0.02) and MAE (0.12), making it the best-performing model overall.\n",
    "   - The Random Forest's ability to handle non-linear relationships and interactions between variables likely contributes to its superior performance.\n",
    "\n",
    "4. **Gradient Boosting Regressor**:\n",
    "   - Similar to Random Forest, Gradient Boosting shows a high R-squared value (0.85) and comparable MSE (0.02) and MAE (0.12).\n",
    "   - It performs well but slightly less effectively than Random Forest.\n",
    "\n",
    "5. **Support Vector Regressor**:\n",
    "   - This model has the lowest R-squared value (0.67), indicating a poor fit compared to others.\n",
    "   - Its MSE (0.04) and MAE (0.18) are higher than those of Random Forest and Gradient Boosting, suggesting less accurate predictions.\n",
    "\n",
    "### Conclusion\n",
    "\n",
    "The best-performing model is the **Random Forest Regressor**, which achieved an R-squared value of **0.861474**, an MSE of **0.016867**, and an MAE of **0.115894**. This model outperforms all others due to its robustness in handling complex datasets with multiple features and interactions, making it highly suitable for predicting car prices in this context.\n"
   ]
  },
  {
   "cell_type": "markdown",
   "id": "71267560-1134-4a52-919a-f7c5b208460e",
   "metadata": {},
   "source": [
    "## Feature Importance Analysis"
   ]
  },
  {
   "cell_type": "code",
   "execution_count": 97,
   "id": "91143e9b-bb57-4783-8035-bcce8f0be4a6",
   "metadata": {},
   "outputs": [
    {
     "name": "stdout",
     "output_type": "stream",
     "text": [
      "Random Forest Feature Importance:\n",
      "       Feature  Importance\n",
      "11  horsepower    0.552021\n",
      "14  highwaympg    0.156783\n",
      "13     citympg    0.080042\n",
      "6   curbweight    0.075223\n",
      "2    wheelbase    0.021899\n",
      "4     carwidth    0.019025\n",
      "0       car_ID    0.015874\n",
      "3    carlength    0.015357\n",
      "9       stroke    0.007997\n",
      "7   enginesize    0.006538\n",
      "Gradient Boosting Feature Importance:\n",
      "             Feature  Importance\n",
      "11        horsepower    0.748412\n",
      "6         curbweight    0.058043\n",
      "14        highwaympg    0.035859\n",
      "13           citympg    0.029165\n",
      "127  fuelsystem_mpfi    0.016379\n",
      "9             stroke    0.012852\n",
      "4           carwidth    0.011100\n",
      "5          carheight    0.010724\n",
      "0             car_ID    0.010310\n",
      "3          carlength    0.008306\n"
     ]
    }
   ],
   "source": [
    "# Feature Importance for Random Forest and Gradient Boosting Models\n",
    "rf_model = models['Random Forest']\n",
    "gb_model = models['Gradient Boosting']\n",
    "\n",
    "# Get feature importances from Random Forest\n",
    "rf_importances = rf_model.feature_importances_\n",
    "gb_importances = gb_model.feature_importances_\n",
    "\n",
    "# Create DataFrames for feature importance analysis\n",
    "importance_rf_df = pd.DataFrame({'Feature': X.columns, 'Importance': rf_importances})\n",
    "importance_gb_df = pd.DataFrame({'Feature': X.columns, 'Importance': gb_importances})\n",
    "\n",
    "# Sort by importance and display top features for Random Forest\n",
    "importance_rf_df.sort_values(by='Importance', ascending=False, inplace=True)\n",
    "print(\"Random Forest Feature Importance:\")\n",
    "print(importance_rf_df.head(10))\n",
    "\n",
    "# Sort by importance and display top features for Gradient Boosting\n",
    "importance_gb_df.sort_values(by='Importance', ascending=False, inplace=True)\n",
    "print(\"Gradient Boosting Feature Importance:\")\n",
    "print(importance_gb_df.head(10))"
   ]
  },
  {
   "cell_type": "markdown",
   "id": "76a5e394-5f73-47d6-a587-93112abf99be",
   "metadata": {},
   "source": [
    "### Random Forest Feature Importance\n",
    "\n",
    "| Feature       | Importance |\n",
    "|---------------|------------|\n",
    "| horsepower    | 0.552021   |\n",
    "| highwaympg    | 0.156783   |\n",
    "| citympg       | 0.080042   |\n",
    "| curbweight     | 0.075223   |\n",
    "| wheelbase     | 0.021899   |\n",
    "| carwidth      | 0.019025   |\n",
    "| car_ID        | 0.015874   |\n",
    "| carlength     | 0.015357   |\n",
    "| stroke        | 0.007997   |\n",
    "| enginesize    | 0.006538   |\n",
    "\n",
    "### Gradient Boosting Feature Importance\n",
    "\n",
    "| Feature                | Importance |\n",
    "|------------------------|------------|\n",
    "| horsepower             | 0.748412   |\n",
    "| curbweight             | 0.058043   |\n",
    "| highwaympg             | 0.035859   |\n",
    "| citympg                | 0.029165   |\n",
    "| fuelsystem_mpfi        | 0.016379   |\n",
    "| stroke                 | 0.012852   |\n",
    "| carwidth               | 0.011100   |\n",
    "| carheight              | 0.010724   |\n",
    "| car_ID                 | 0.010310   |\n",
    "| carlength              | 0.008306   |\n",
    "\n",
    "### Analysis of Feature Importance\n",
    "\n",
    "1. **Horsepower**:\n",
    "   - In both models, **horsepower** emerges as the most significant feature, with an importance score of **0.552021** in Random Forest and **0.748412** in Gradient Boosting.\n",
    "   - This indicates that higher horsepower is strongly associated with higher car prices, likely due to its impact on performance and desirability.\n",
    "\n",
    "2. **Highway MPG**:\n",
    "   - The second most important feature in the Random Forest model is **highwaympg**, with an importance score of **0.156783**.\n",
    "   - For the Gradient Boosting model, it ranks lower but still significant at **0.035859**.\n",
    "   - This suggests that fuel efficiency on highways plays a role in pricing, as consumers often value economical vehicles.\n",
    "\n",
    "3. **City MPG**:\n",
    "   - The **citympg** feature has a moderate importance score of **0.080042** in Random Forest and **0.029165** in Gradient Boosting.\n",
    "   - Similar to highway mileage, city mileage also affects pricing, reflecting consumer preferences for fuel-efficient vehicles.\n",
    "\n",
    "4. **Curb Weight**:\n",
    "   - The curb weight of a vehicle shows some influence on price with scores of **0.075223** (Random Forest) and **0.058043** (Gradient Boosting).\n",
    "   - Heavier vehicles may be perceived as more robust or safer, impacting their market value.\n",
    "\n",
    "5. **Wheelbase and Car Dimensions**:\n",
    "   - Features such as **wheelbase**, **carwidth**, and **carlength** have relatively low importance scores, indicating they have less influence on pricing compared to performance-related metrics like horsepower and MPG.\n",
    "  \n",
    "6. **Car ID**:\n",
    "   - The presence of **car_ID** in both models indicates that it has some level of importance, although it is generally not a useful predictor since it does not provide meaningful information about the vehicle's characteristics or performance.\n",
    "\n",
    "7. **Stroke and Engine Size**:\n",
    "   - Both features have minimal impact on predicting price, as indicated by their low scores in both models.\n",
    "\n",
    "### Conclusion\n",
    "\n",
    "The analysis of feature importance reveals that performance metrics such as horsepower and fuel economy (both city and highway MPG) are the most influential factors affecting car prices in this dataset. These insights can guide manufacturers and marketers in understanding consumer preferences and optimizing vehicle designs to enhance market competitiveness.\n"
   ]
  },
  {
   "cell_type": "markdown",
   "id": "9d464860-0efc-45b3-a284-5dff677fef6b",
   "metadata": {},
   "source": [
    "## Hyperparameter Tuning"
   ]
  },
  {
   "cell_type": "code",
   "execution_count": 100,
   "id": "fa2e11fb-f391-4b11-8c65-018ab4e6041b",
   "metadata": {
    "scrolled": true
   },
   "outputs": [
    {
     "name": "stdout",
     "output_type": "stream",
     "text": [
      "Tuned Random Forest - R-squared: 0.8557970909470098, MSE: 0.017557849449900152, MAE: 0.11752538709038723\n"
     ]
    }
   ],
   "source": [
    "from sklearn.model_selection import GridSearchCV\n",
    "\n",
    "# Example hyperparameter tuning for Random Forest Regressor\n",
    "param_grid_rf = {\n",
    "    'n_estimators': [100, 200],\n",
    "    'max_depth': [None, 10, 20],\n",
    "}\n",
    "\n",
    "grid_search_rf = GridSearchCV(RandomForestRegressor(), param_grid_rf, cv=5)\n",
    "grid_search_rf.fit(X_train, y_train)\n",
    "\n",
    "best_rf_model = grid_search_rf.best_estimator_\n",
    "best_predictions_rf = best_rf_model.predict(X_test)\n",
    "\n",
    "# Evaluate the tuned model's performance\n",
    "best_r2_rf = r2_score(y_test, best_predictions_rf)\n",
    "best_mse_rf = mean_squared_error(y_test, best_predictions_rf)\n",
    "best_mae_rf = mean_absolute_error(y_test, best_predictions_rf)\n",
    "\n",
    "print(f\"Tuned Random Forest - R-squared: {best_r2_rf}, MSE: {best_mse_rf}, MAE: {best_mae_rf}\")"
   ]
  },
  {
   "cell_type": "code",
   "execution_count": 102,
   "id": "4ca47fe2-5608-4739-a4bf-0bc16f6fbf5c",
   "metadata": {},
   "outputs": [
    {
     "name": "stderr",
     "output_type": "stream",
     "text": [
      "C:\\Users\\diluk\\AppData\\Local\\Temp\\ipykernel_7952\\2074640599.py:24: FutureWarning: \n",
      "\n",
      "Passing `palette` without assigning `hue` is deprecated and will be removed in v0.14.0. Assign the `x` variable to `hue` and set `legend=False` for the same effect.\n",
      "\n",
      "  sns.barplot(x='Model', y='R-squared', data=evaluation_df, palette='viridis')\n",
      "C:\\Users\\diluk\\AppData\\Local\\Temp\\ipykernel_7952\\2074640599.py:30: FutureWarning: \n",
      "\n",
      "Passing `palette` without assigning `hue` is deprecated and will be removed in v0.14.0. Assign the `x` variable to `hue` and set `legend=False` for the same effect.\n",
      "\n",
      "  sns.barplot(x='Model', y='MSE', data=evaluation_df, palette='viridis')\n",
      "C:\\Users\\diluk\\AppData\\Local\\Temp\\ipykernel_7952\\2074640599.py:36: FutureWarning: \n",
      "\n",
      "Passing `palette` without assigning `hue` is deprecated and will be removed in v0.14.0. Assign the `x` variable to `hue` and set `legend=False` for the same effect.\n",
      "\n",
      "  sns.barplot(x='Model', y='MAE', data=evaluation_df, palette='viridis')\n"
     ]
    },
    {
     "data": {
      "image/png": "[encoded data removed]",
      "text/plain": [
       "<Figure size 1200x600 with 3 Axes>"
      ]
     },
     "metadata": {},
     "output_type": "display_data"
    }
   ],
   "source": [
    "import matplotlib.pyplot as plt\n",
    "import numpy as np\n",
    "import pandas as pd\n",
    "\n",
    "# Define model evaluation metrics\n",
    "models = ['Old Random Forest', 'Tuned Random Forest']\n",
    "r_squared = [0.86, 0.8558]\n",
    "mse = [0.02, 0.0176]\n",
    "mae = [0.12, 0.1175]\n",
    "\n",
    "# Create a DataFrame for better handling\n",
    "evaluation_df = pd.DataFrame({\n",
    "    'Model': models,\n",
    "    'R-squared': r_squared,\n",
    "    'MSE': mse,\n",
    "    'MAE': mae\n",
    "})\n",
    "\n",
    "# Set the figure size\n",
    "plt.figure(figsize=(12, 6))\n",
    "\n",
    "# Plotting R-squared\n",
    "plt.subplot(1, 3, 1)\n",
    "sns.barplot(x='Model', y='R-squared', data=evaluation_df, palette='viridis')\n",
    "plt.title('R-squared Comparison')\n",
    "plt.ylim(0, 1)  # Set y-axis limit for R-squared\n",
    "\n",
    "# Plotting MSE\n",
    "plt.subplot(1, 3, 2)\n",
    "sns.barplot(x='Model', y='MSE', data=evaluation_df, palette='viridis')\n",
    "plt.title('Mean Squared Error Comparison')\n",
    "plt.ylim(0, 0.05)  # Set y-axis limit for MSE\n",
    "\n",
    "# Plotting MAE\n",
    "plt.subplot(1, 3, 3)\n",
    "sns.barplot(x='Model', y='MAE', data=evaluation_df, palette='viridis')\n",
    "plt.title('Mean Absolute Error Comparison')\n",
    "plt.ylim(0, 0.2)  # Set y-axis limit for MAE\n",
    "\n",
    "# Adjust layout\n",
    "plt.tight_layout()\n",
    "plt.show()"
   ]
  },
  {
   "cell_type": "markdown",
   "id": "14936cc7-481e-4bef-b57c-e28851c0e64f",
   "metadata": {},
   "source": [
    "#### Old Random Forest Model\n",
    "\n",
    "- **R-squared:** 0.86\n",
    "- **Mean Squared Error (MSE):** 0.02\n",
    "- **Mean Absolute Error (MAE):** 0.12\n",
    "\n",
    "#### Tuned Random Forest Model\n",
    "\n",
    "- **R-squared:** 0.8558\n",
    "- **Mean Squared Error (MSE):** 0.0176\n",
    "- **Mean Absolute Error (MAE):** 0.1175\n",
    "\n",
    "### Analysis of Results\n",
    "\n",
    "1. **R-squared Value**:\n",
    "   - The old Random Forest model has an R-squared value of **0.86**, indicating that it explains **86%** of the variance in car prices.\n",
    "   - The tuned model shows a slight decrease in R-squared to **0.8558**, which means it explains approximately **85.58%** of the variance. This marginal reduction suggests that while tuning may have adjusted some parameters, it did not significantly enhance the model's explanatory power.\n",
    "\n",
    "2. **Mean Squared Error (MSE)**:\n",
    "   - The old model has an MSE of **0.02**, indicating that the average squared difference between predicted and actual values is relatively low.\n",
    "   - The tuned model's MSE increased slightly to **0.0176**, indicating a small increase in prediction error on average. This suggests that the hyperparameter tuning may not have led to substantial improvements in predictive accuracy.\n",
    "\n",
    "3. **Mean Absolute Error (MAE)**:\n",
    "   - The old Random Forest model has an MAE of **0.12**, meaning predictions are, on average, off by about **0.12**.\n",
    "   - The tuned model's MAE increased to **0.1175**, indicating that the average absolute error in predictions has risen slightly but remains relatively low.\n",
    "\n",
    "### Conclusion\n",
    "\n",
    "Overall, while the tuned Random Forest model shows some minor shifts in performance metrics, it does not demonstrate a significant improvement over the original model:\n",
    "\n",
    "- The slight decrease in R-squared and increase in MSE and MAE suggest that the hyperparameter tuning did not lead to better predictive performance.\n",
    "- The old Random Forest model remains a strong performer with high explanatory power and low error metrics.\n"
   ]
  },
  {
   "cell_type": "code",
   "execution_count": null,
   "id": "55f7ee77-0775-4a16-abf7-b6a0450e8dbe",
   "metadata": {},
   "outputs": [],
   "source": []
  }
 ],
 "metadata": {
  "kernelspec": {
   "display_name": "Python 3 (ipykernel)",
   "language": "python",
   "name": "python3"
  },
  "language_info": {
   "codemirror_mode": {
    "name": "ipython",
    "version": 3
   },
   "file_extension": ".py",
   "mimetype": "text/x-python",
   "name": "python",
   "nbconvert_exporter": "python",
   "pygments_lexer": "ipython3",
   "version": "3.13.0"
  }
 },
 "nbformat": 4,
 "nbformat_minor": 5
}
